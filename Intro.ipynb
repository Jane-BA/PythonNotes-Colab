{
  "nbformat": 4,
  "nbformat_minor": 0,
  "metadata": {
    "colab": {
      "provenance": [],
      "authorship_tag": "ABX9TyNdSzBT7K6YzAh5CS5T3GCJ",
      "include_colab_link": true
    },
    "kernelspec": {
      "name": "python3",
      "display_name": "Python 3"
    },
    "language_info": {
      "name": "python"
    }
  },
  "cells": [
    {
      "cell_type": "markdown",
      "metadata": {
        "id": "view-in-github",
        "colab_type": "text"
      },
      "source": [
        "<a href=\"https://colab.research.google.com/github/Jane-BA/PythonNotes-Colab/blob/main/Intro.ipynb\" target=\"_parent\"><img src=\"https://colab.research.google.com/assets/colab-badge.svg\" alt=\"Open In Colab\"/></a>"
      ]
    },
    {
      "cell_type": "markdown",
      "source": [
        "# Tipos de impresión\n"
      ],
      "metadata": {
        "id": "QAGoyy8XJn9y"
      }
    },
    {
      "cell_type": "markdown",
      "source": [
        "\n",
        "\n",
        "> INPUT\n",
        "\n"
      ],
      "metadata": {
        "id": "gHTEvDk8az81"
      }
    },
    {
      "cell_type": "code",
      "source": [
        "my_ege = input(\"Cual es tu edad? \")\n",
        "print(\"Usando input...\", my_ege)"
      ],
      "metadata": {
        "colab": {
          "base_uri": "https://localhost:8080/"
        },
        "id": "sTT6XtTjK_ps",
        "outputId": "c2a5b94a-ec5f-43cd-c216-85f0008abea1"
      },
      "execution_count": null,
      "outputs": [
        {
          "output_type": "stream",
          "name": "stdout",
          "text": [
            "Cual es tu edad? 25\n",
            "Usando input... 25\n"
          ]
        }
      ]
    },
    {
      "cell_type": "code",
      "source": [
        "name = \"Jan\"\n",
        "last_name = \"Bri\""
      ],
      "metadata": {
        "id": "Fp1RLyrvOZtP"
      },
      "execution_count": null,
      "outputs": []
    },
    {
      "cell_type": "code",
      "source": [
        "\"I'm \" + name + ' ' + last_name\n",
        "\n",
        "\"Hi, mi nombre es {} y mi apellido es {}\".format(name, last_name)\n",
        "\n",
        "f\"Holis, soy {name} {last_name} y mi edad es {my_ege}\""
      ],
      "metadata": {
        "colab": {
          "base_uri": "https://localhost:8080/",
          "height": 35
        },
        "id": "MJGaYHaFKpE3",
        "outputId": "8d6dbdfc-2a2c-4676-e65b-f66889c30ad5"
      },
      "execution_count": null,
      "outputs": [
        {
          "output_type": "execute_result",
          "data": {
            "text/plain": [
              "'Holis, soy Jan Bri y mi edad es 25'"
            ],
            "application/vnd.google.colaboratory.intrinsic+json": {
              "type": "string"
            }
          },
          "metadata": {},
          "execution_count": 7
        }
      ]
    },
    {
      "cell_type": "code",
      "source": [
        "# Continuacion de linea\n",
        "2 +  6 * 56 + \\\n",
        "4 +23 * 8 / 15"
      ],
      "metadata": {
        "id": "OC40y1cFal8G",
        "outputId": "5263b931-fd43-4552-cbd5-d977c8952810",
        "colab": {
          "base_uri": "https://localhost:8080/"
        }
      },
      "execution_count": 1,
      "outputs": [
        {
          "output_type": "execute_result",
          "data": {
            "text/plain": [
              "354.26666666666665"
            ]
          },
          "metadata": {},
          "execution_count": 1
        }
      ]
    },
    {
      "cell_type": "markdown",
      "source": [
        "# Matematicas"
      ],
      "metadata": {
        "id": "npcE-FaDL8hR"
      }
    },
    {
      "cell_type": "code",
      "source": [
        "print('Suma: ', 10 + 10) # 20\n",
        "print('Resta: ', 10 - 5) # 5\n",
        "print('Multi: ', 10 * 5) # 50\n",
        "print('Divi: ', 10 / 2) # 5.0\n",
        "print('Residuo: ', 10 % 2, 10 % 3) # 0 Residuo de la division\n",
        "print('Divi sin decimal: ', 10 // 3) # 3 Division sin decimal\n",
        "print('Exponente: ', 2**3, pow(3, 2)) # 8 Exponente"
      ],
      "metadata": {
        "colab": {
          "base_uri": "https://localhost:8080/"
        },
        "id": "4qrBDNvWLm8B",
        "outputId": "030fc600-bdf3-4f0a-e869-737125b3ed91"
      },
      "execution_count": null,
      "outputs": [
        {
          "output_type": "stream",
          "name": "stdout",
          "text": [
            "Suma:  20\n",
            "Resta:  5\n",
            "Multi:  50\n",
            "Divi:  5.0\n",
            "Residuo:  0 1\n",
            "Divi sin decimal:  3\n",
            "Exponente:  8 9\n"
          ]
        }
      ]
    },
    {
      "cell_type": "code",
      "source": [
        "x = 3.3\n",
        "y = 1.1 + 2.2\n",
        "xy = (x == y) #False\n",
        "print(xy)\n",
        "\n",
        "y_str = format(y, \"2g\") #Convesion Forzada a str con 2 decimales\n",
        "print(y_str == str(x)) # Convierte x en str para hacer la igualdad\n",
        "\n",
        "print(f\"x = {x}\")\n",
        "print(f\"y = {y}\")\n",
        "print(f\"x = y? {xy}\") # False 3.3 != 3.3000003 (floats)\n",
        "'''La mejor manera de hacerlo'''\n",
        "print(x == round(y, 1)) #Redondea el valor (y == 3.3 y no 3.000003)"
      ],
      "metadata": {
        "colab": {
          "base_uri": "https://localhost:8080/"
        },
        "id": "26hjzh3QMAqC",
        "outputId": "78ca847a-7fa6-4c40-bd20-7e2dc1d6fb80"
      },
      "execution_count": null,
      "outputs": [
        {
          "output_type": "stream",
          "name": "stdout",
          "text": [
            "False\n",
            "True\n",
            "x = 3.3\n",
            "y = 3.3000000000000003\n",
            "x = y? False\n",
            "True\n"
          ]
        }
      ]
    },
    {
      "cell_type": "markdown",
      "source": [
        "# While"
      ],
      "metadata": {
        "id": "10VB8HFtQYug"
      }
    },
    {
      "cell_type": "markdown",
      "source": [
        "\n",
        "\n",
        "> Break y Continue\n",
        "\n"
      ],
      "metadata": {
        "id": "_XiWBu1zROAd"
      }
    },
    {
      "cell_type": "code",
      "source": [
        "counter = 0\n",
        "'''BREAK'''\n",
        "while counter < 10:\n",
        "    counter += 1\n",
        "    if counter == 4:\n",
        "        break\n",
        "    print(counter)\n",
        "\n",
        "print('...')\n",
        "\n",
        "'''CONTINUE'''\n",
        "while counter < 10:\n",
        "    counter += 1\n",
        "    if counter < 7:\n",
        "        continue\n",
        "    print(counter)"
      ],
      "metadata": {
        "colab": {
          "base_uri": "https://localhost:8080/"
        },
        "id": "uj1e8xvXOvg6",
        "outputId": "766b08c6-8ea2-42f3-841f-26bc365520cf"
      },
      "execution_count": null,
      "outputs": [
        {
          "output_type": "stream",
          "name": "stdout",
          "text": [
            "1\n",
            "2\n",
            "3\n",
            "...\n",
            "7\n",
            "8\n",
            "9\n",
            "10\n"
          ]
        }
      ]
    },
    {
      "cell_type": "markdown",
      "source": [
        "# For"
      ],
      "metadata": {
        "id": "rHq7Z2kzRV0s"
      }
    },
    {
      "cell_type": "code",
      "source": [
        "# Recorre un rango (incluye, omite)\n",
        "for element in range(1, 4):\n",
        "    print(element)"
      ],
      "metadata": {
        "colab": {
          "base_uri": "https://localhost:8080/"
        },
        "id": "tq440QSBQbr2",
        "outputId": "700f2616-e367-4226-fae2-66868468c3e3"
      },
      "execution_count": null,
      "outputs": [
        {
          "output_type": "stream",
          "name": "stdout",
          "text": [
            "1\n",
            "2\n",
            "3\n"
          ]
        }
      ]
    },
    {
      "cell_type": "code",
      "source": [
        "#Recorre una lista [ ] o una tupla ( )\n",
        "my_list = [23, 45, 67]\n",
        "for element in my_list:\n",
        "    print(element)"
      ],
      "metadata": {
        "colab": {
          "base_uri": "https://localhost:8080/"
        },
        "id": "FlNgwWJJRiO7",
        "outputId": "c989a606-5c0b-4326-9fde-8e60ab0eb6fb"
      },
      "execution_count": null,
      "outputs": [
        {
          "output_type": "stream",
          "name": "stdout",
          "text": [
            "23\n",
            "45\n",
            "67\n"
          ]
        }
      ]
    },
    {
      "cell_type": "code",
      "source": [
        "#Recorrer un diccionario\n",
        "product = {\n",
        "    'name' : 'camisa',\n",
        "    'price' : 100,\n",
        "    'stock' : 89\n",
        "}\n",
        "for key in product:\n",
        "    print(key, ' > ', product[key])\n",
        "\n",
        "for key, value in product.items():\n",
        "    print(key, ' > ', value)"
      ],
      "metadata": {
        "colab": {
          "base_uri": "https://localhost:8080/"
        },
        "id": "4XCXZqQ_R-wW",
        "outputId": "9f8d9bce-0da7-40e2-f593-929f6139f990"
      },
      "execution_count": null,
      "outputs": [
        {
          "output_type": "stream",
          "name": "stdout",
          "text": [
            "name  >  camisa\n",
            "price  >  100\n",
            "stock  >  89\n",
            "name  >  camisa\n",
            "price  >  100\n",
            "stock  >  89\n"
          ]
        }
      ]
    },
    {
      "cell_type": "code",
      "source": [
        "#Recorrer una lista de diccionarios\n",
        "people = [\n",
        "    {'name': 'nico',\n",
        "     'age': 4},\n",
        "    {'name': 'zule',\n",
        "     'age': 4},\n",
        "    {'name': 'santi',\n",
        "     'age': 4}\n",
        "]\n",
        "for person in people:\n",
        "    print('name > ', person['name'])"
      ],
      "metadata": {
        "colab": {
          "base_uri": "https://localhost:8080/"
        },
        "id": "YyG_snCUTFzm",
        "outputId": "163b04d5-08fe-4397-84d5-793d8d587837"
      },
      "execution_count": null,
      "outputs": [
        {
          "output_type": "stream",
          "name": "stdout",
          "text": [
            "name >  nico\n",
            "name >  zule\n",
            "name >  santi\n"
          ]
        }
      ]
    },
    {
      "cell_type": "code",
      "source": [
        "'''Iterar de manera manual con NEXT'''\n",
        "#For itera de manera automatica#\n",
        "my_iter = iter(range(1, 4))\n",
        "print(my_iter)\n",
        "print(next(my_iter))\n",
        "print(next(my_iter))"
      ],
      "metadata": {
        "colab": {
          "base_uri": "https://localhost:8080/"
        },
        "id": "w179EsxTWPU5",
        "outputId": "cb884ada-078f-43a6-944e-63db9720c586"
      },
      "execution_count": null,
      "outputs": [
        {
          "output_type": "stream",
          "name": "stdout",
          "text": [
            "<range_iterator object at 0x7c7851f86970>\n",
            "1\n",
            "2\n"
          ]
        }
      ]
    }
  ]
}