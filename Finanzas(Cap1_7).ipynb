{
  "nbformat": 4,
  "nbformat_minor": 0,
  "metadata": {
    "colab": {
      "provenance": [],
      "collapsed_sections": [
        "xOnmLPxidNme",
        "jPApytzyPKVt",
        "b-MJYYZtP_OX",
        "aWrobNQdNtY6",
        "8UP37D8edXKO",
        "qELI8Gi_SYVi",
        "V__TwuGvL87Y"
      ],
      "authorship_tag": "ABX9TyM9XkKjAyf+GtKWUWlbuxP/",
      "include_colab_link": true
    },
    "kernelspec": {
      "name": "python3",
      "display_name": "Python 3"
    },
    "language_info": {
      "name": "python"
    }
  },
  "cells": [
    {
      "cell_type": "markdown",
      "metadata": {
        "id": "view-in-github",
        "colab_type": "text"
      },
      "source": [
        "<a href=\"https://colab.research.google.com/github/Jane-BA/PythonNotes-Colab/blob/main/Finanzas(Cap1_7).ipynb\" target=\"_parent\"><img src=\"https://colab.research.google.com/assets/colab-badge.svg\" alt=\"Open In Colab\"/></a>"
      ]
    },
    {
      "cell_type": "markdown",
      "source": [
        "# **Valor de Inversión Dependiendo del Perfil de Riesgo del Cliente**"
      ],
      "metadata": {
        "id": "xOnmLPxidNme"
      }
    },
    {
      "cell_type": "markdown",
      "source": [
        "\n",
        "\n",
        "> Inversion inicial, tasa de interes, años\n",
        "\n"
      ],
      "metadata": {
        "id": "fj2wU656O4eq"
      }
    },
    {
      "cell_type": "code",
      "source": [
        "def obtener_tasa_interes(perfil_riesgo):\n",
        "\n",
        "    if (perfil_riesgo == \"Conservador\"):\n",
        "        return 3;\n",
        "    elif (perfil_riesgo == \"Moderado\"):\n",
        "        return 5;\n",
        "    elif (perfil_riesgo == \"Agresivo\"):\n",
        "        return 8;\n",
        "    else:\n",
        "        return 0;"
      ],
      "metadata": {
        "id": "P9O7SAvnbeQ6"
      },
      "execution_count": null,
      "outputs": []
    },
    {
      "cell_type": "code",
      "source": [
        "''' principal: la cantidad inicial de la inversión.\n",
        "perfil_riesgo: conservador, moderado o agresivo.\n",
        "num_anios: el número de años durante los cuales se invertirá el dinero.'''\n",
        "\n",
        "def calcular_interés_compuesto(principal, perfil_riesgo, num_anios):\n",
        "    valor_futuro = principal * (1 + perfil_riesgo / 100) ** num_anios;\n",
        "    return round(valor_futuro, 2);"
      ],
      "metadata": {
        "id": "w2aUpcpobuvI"
      },
      "execution_count": null,
      "outputs": []
    },
    {
      "cell_type": "code",
      "source": [
        "# Funciones anidadas\n",
        "valor_futuro_ejemplo = calcular_interés_compuesto(1000, obtener_tasa_interes(\"Agresivo\"), 5);\n",
        "print(\"El valor futuro de la inversión es:\", valor_futuro_ejemplo)"
      ],
      "metadata": {
        "colab": {
          "base_uri": "https://localhost:8080/"
        },
        "id": "D6kT0Zt3by-w",
        "outputId": "c29bee60-1fda-4fa3-cba5-543b3d513c47"
      },
      "execution_count": null,
      "outputs": [
        {
          "output_type": "stream",
          "name": "stdout",
          "text": [
            "El valor futuro de la inversión es: 1469.33\n"
          ]
        }
      ]
    },
    {
      "cell_type": "markdown",
      "source": [
        "# **Inversión con Metas de Ahorro**"
      ],
      "metadata": {
        "id": "jPApytzyPKVt"
      }
    },
    {
      "cell_type": "markdown",
      "source": [
        "\n",
        "\n",
        "> Inversion inicial, tasa de interes, meta deseada\n",
        "\n"
      ],
      "metadata": {
        "id": "8NzvrqYVPcbX"
      }
    },
    {
      "cell_type": "code",
      "source": [
        "inversion_inicial = 10000;\n",
        "tasa_interes_anual = 0.10;\n",
        "meta_ahorro = 20000;\n",
        "meses = 0;"
      ],
      "metadata": {
        "id": "t_dh7SlOPSd1"
      },
      "execution_count": null,
      "outputs": []
    },
    {
      "cell_type": "code",
      "source": [
        "while inversion_inicial <= meta_ahorro:\n",
        "    tasa_interes_mensual = tasa_interes_anual * 12;\n",
        "    inversion_inicial *= tasa_interes_mensual;\n",
        "    meses += 1;\n",
        "\n",
        "print(f\"Te tomará {meses} meses alcanzar una inversión de ${meta_ahorro}\");"
      ],
      "metadata": {
        "colab": {
          "base_uri": "https://localhost:8080/"
        },
        "id": "dk7Ir6zhPV2P",
        "outputId": "59c4ee8f-4753-433d-e8c2-8b24b4b8e569"
      },
      "execution_count": null,
      "outputs": [
        {
          "output_type": "stream",
          "name": "stdout",
          "text": [
            "Te tomará 4 meses alcanzar una inversión de $20000\n"
          ]
        }
      ]
    },
    {
      "cell_type": "markdown",
      "source": [
        "# **Simulador de Inversión con Periodo, Balance y Tasa de Retorno**"
      ],
      "metadata": {
        "id": "b-MJYYZtP_OX"
      }
    },
    {
      "cell_type": "markdown",
      "source": [
        "\n",
        "\n",
        "> Crecimiento de una inversión bajo diferentes perfiles de riesgo a lo largo del tiempo\n",
        "\n"
      ],
      "metadata": {
        "id": "BJbABgJwQGz_"
      }
    },
    {
      "cell_type": "markdown",
      "source": [
        "Balance / Capital Inicial: Cantidad de dinero que inicialmente se invierte.\n",
        "\n",
        "Años / Número de Períodos: Tiempo durante el cual la inversión crecerá.\n",
        "\n",
        "Tasa de Retorno / Perfil de Riesgo: Cuánto riesgo estás dispuesto a asumir con tu inversión."
      ],
      "metadata": {
        "id": "9g3nwfmyNgSd"
      }
    },
    {
      "cell_type": "code",
      "source": [
        "def simular_inversion(capital_inicial, num_periodos, perfil_riesgo):\n",
        "\n",
        "    # Se inicia el balance con el valor del capital inicial.\n",
        "    balance = capital_inicial\n",
        "    print(f'Balance inicial: {balance}')\n",
        "\n",
        "    # Tasas de retorno para cada perfil\n",
        "    tasa_retorno = {\n",
        "        'bajo': 0.03,\n",
        "        'medio': 0.07,\n",
        "        'alto': 0.15\n",
        "    }\n",
        "    # Se multiplica * 100 para hacerlo entero\n",
        "    riesgo = round(tasa_retorno[perfil_riesgo] * 100, 1)\n",
        "    # Se debe convertir el int a str para poder imprimirlo como texto\n",
        "    print(f'Tasa de Retorno Anual: {str(riesgo)}%')\n",
        "\n",
        "    # Se define el balance para cada periodo\n",
        "    for periodo in range(1, num_periodos+1):\n",
        "        # Se actualiza el balance\n",
        "        balance *= (1 + tasa_retorno[perfil_riesgo]) # Formula de interes compuesto\n",
        "        n = round(balance, 2)\n",
        "        print(f'Periodo {str(periodo)} > balance: {str(n)}')"
      ],
      "metadata": {
        "id": "JQG7PHG6Nf5W"
      },
      "execution_count": null,
      "outputs": []
    },
    {
      "cell_type": "code",
      "source": [
        "capital_inicial = 10000\n",
        "num_periodos = 5\n",
        "perfil_riesgo = 'medio'\n",
        "\n",
        "simular_inversion(capital_inicial, num_periodos, perfil_riesgo)"
      ],
      "metadata": {
        "colab": {
          "base_uri": "https://localhost:8080/"
        },
        "id": "QtakxkaQNpYk",
        "outputId": "dbe0d3c1-ae9c-4b76-a9ef-a12bcf095c3b"
      },
      "execution_count": null,
      "outputs": [
        {
          "output_type": "stream",
          "name": "stdout",
          "text": [
            "Balance inicial: 10000\n",
            "Tasa de Retorno Anual: 7.0%\n",
            "Periodo 1 > balance: 10700.0\n",
            "Periodo 2 > balance: 11449.0\n",
            "Periodo 3 > balance: 12250.43\n",
            "Periodo 4 > balance: 13107.96\n",
            "Periodo 5 > balance: 14025.52\n"
          ]
        }
      ]
    },
    {
      "cell_type": "markdown",
      "source": [
        "# **Calculadora de Saldo de Transacciones Financieras**"
      ],
      "metadata": {
        "id": "aWrobNQdNtY6"
      }
    },
    {
      "cell_type": "markdown",
      "source": [
        "\n",
        "\n",
        "> Desempaquetando tuplas\n",
        "\n"
      ],
      "metadata": {
        "id": "XpMk-eTkN2qY"
      }
    },
    {
      "cell_type": "code",
      "source": [
        "# fecha, transacción, monto, activo involucrado\n",
        "transacciones = [\n",
        "    (\"2023-01-10\", \"Compra\", 1000, \"AAPL\"),\n",
        "    (\"2023-02-15\", \"Venta\", 500, \"TSLA\"),\n",
        "    (\"2023-03-20\", \"Compra\", 800, \"GOOGL\"),\n",
        "    (\"2023-04-05\", \"Venta\", 300, \"MSFT\")\n",
        "    ];"
      ],
      "metadata": {
        "id": "CalXBv7UN-d3"
      },
      "execution_count": null,
      "outputs": []
    },
    {
      "cell_type": "code",
      "source": [
        "saldo = 0;\n",
        "\n",
        "for x in transacciones:\n",
        "    fecha, tipo, monto, activo = x; # Desempaquetado\n",
        "\n",
        "    if (tipo == \"Compra\"):\n",
        "        saldo -= monto;\n",
        "    else:\n",
        "        saldo += monto;\n",
        "\n",
        "print(\"Saldo Total después de Transacciones: $\", saldo)"
      ],
      "metadata": {
        "colab": {
          "base_uri": "https://localhost:8080/"
        },
        "id": "2TJ970gFN-RI",
        "outputId": "d09b6bb5-3f40-4983-b696-18b4a5905b5e"
      },
      "execution_count": null,
      "outputs": [
        {
          "output_type": "stream",
          "name": "stdout",
          "text": [
            "Saldo Total después de Transacciones: $ -1000\n"
          ]
        }
      ]
    },
    {
      "cell_type": "markdown",
      "source": [
        "#**Calcular depreciacion anual**\n"
      ],
      "metadata": {
        "id": "8UP37D8edXKO"
      }
    },
    {
      "cell_type": "code",
      "source": [
        "def calcular_depreciacion_anual(ini, vida, tasa):\n",
        "    valores_anuales = [];\n",
        "\n",
        "    for _ in range(vida):\n",
        "      # Formula de depreciacion\n",
        "      ini -= ini * tasa\n",
        "      valores_anuales.append(round(ini, 2));\n",
        "\n",
        "    # ENUMERATE, separa valores de la lista en 'valor' y la indexacion la comienza en 1 en 'i'\n",
        "    for i, valor in enumerate(valores_anuales, start = 1):\n",
        "        print(f\"Año {i}: ${valor}\");"
      ],
      "metadata": {
        "id": "EfydtdvOdL_V"
      },
      "execution_count": null,
      "outputs": []
    },
    {
      "cell_type": "code",
      "source": [
        "valor_inicial = 10000; # Valor inicial del activo\n",
        "vida_util = 5; # Vida útil en años\n",
        "tasa_depreciacion = 0.15; # Tasa de depreciación anual del 15%\n",
        "\n",
        "calcular_depreciacion_anual(valor_inicial, vida_util, tasa_depreciacion);"
      ],
      "metadata": {
        "colab": {
          "base_uri": "https://localhost:8080/"
        },
        "id": "aFQxRNlgdezU",
        "outputId": "bdbbc61c-3612-49a3-9ca5-51b341efb8e8"
      },
      "execution_count": null,
      "outputs": [
        {
          "output_type": "stream",
          "name": "stdout",
          "text": [
            "Año 1: $8500.0\n",
            "Año 2: $7225.0\n",
            "Año 3: $6141.25\n",
            "Año 4: $5220.06\n",
            "Año 5: $4437.05\n"
          ]
        }
      ]
    },
    {
      "cell_type": "markdown",
      "source": [
        "# **Separación de registros de clientes de activos e inactivos.**"
      ],
      "metadata": {
        "id": "qELI8Gi_SYVi"
      }
    },
    {
      "cell_type": "code",
      "source": [
        "def separar_clientes(registros):\n",
        "    clientes_activos = [];\n",
        "    clientes_inactivos = [];\n",
        "\n",
        "    for x in registros:\n",
        "        if x.get('activo') == True:\n",
        "            clientes_activos.append(x);\n",
        "\n",
        "        else:\n",
        "            clientes_inactivos.append(x);\n",
        "\n",
        "    return clientes_activos, clientes_inactivos"
      ],
      "metadata": {
        "id": "-qmcZbgzSms5"
      },
      "execution_count": null,
      "outputs": []
    },
    {
      "cell_type": "code",
      "source": [
        "# Lista de Diccionarios\n",
        "registros_clientes = [{'nombre': 'Cliente1', 'activo': True},\n",
        "                    {'nombre': 'Cliente2', 'activo': False},\n",
        "                    {'nombre': 'Cliente3', 'activo': True},\n",
        "                    {'nombre': 'Cliente4', 'activo': False},\n",
        "                    {'nombre': 'Cliente5', 'activo': False}]\n",
        "\n",
        "clientes_activos, clientes_inactivos = separar_clientes(registros_clientes)"
      ],
      "metadata": {
        "id": "foUOzJ5VSq46"
      },
      "execution_count": null,
      "outputs": []
    },
    {
      "cell_type": "code",
      "source": [
        "# Impresion\n",
        "print(\"Base de Datos de Clientes Activos:\")\n",
        "for a in clientes_activos:\n",
        "    print(a)\n",
        "\n",
        "print(\"Base de Datos de Clientes Inactivos:\")\n",
        "for i in clientes_activos:\n",
        "    print(i)"
      ],
      "metadata": {
        "colab": {
          "base_uri": "https://localhost:8080/"
        },
        "id": "MfleUpb2Sux2",
        "outputId": "ac040b74-2ac9-4ebf-adda-d20f67fcebb5"
      },
      "execution_count": null,
      "outputs": [
        {
          "output_type": "stream",
          "name": "stdout",
          "text": [
            "Base de Datos de Clientes Activos:\n",
            "{'nombre': 'Cliente1', 'activo': True}\n",
            "{'nombre': 'Cliente3', 'activo': True}\n",
            "Base de Datos de Clientes Inactivos:\n",
            "{'nombre': 'Cliente1', 'activo': True}\n",
            "{'nombre': 'Cliente3', 'activo': True}\n"
          ]
        }
      ]
    },
    {
      "cell_type": "markdown",
      "source": [
        "# **Calculando Intereses Acumulados en Préstamos con Diccionarios**"
      ],
      "metadata": {
        "id": "V__TwuGvL87Y"
      }
    },
    {
      "cell_type": "markdown",
      "source": [
        "\n",
        "\n",
        "> Forma 1, for anidado en diccionarios\n",
        "\n"
      ],
      "metadata": {
        "id": "frrdSJQAMGf6"
      }
    },
    {
      "cell_type": "code",
      "source": [
        "def calcular_intereses_acumulados(dic, años):\n",
        "    interesesAcumulados = 0\n",
        "    totalIntereses = 0\n",
        "\n",
        "    for nombre, x in dic.items():\n",
        "        for tasa_interes, monto_pendiente in x.items():\n",
        "\n",
        "            interesesAcumulados = (monto_pendiente * tasa_interes * años)\n",
        "            print(f'Intereses de {nombre}: ${round(interesesAcumulados, 2)}')\n",
        "\n",
        "        totalIntereses += interesesAcumulados\n",
        "\n",
        "    print(f'Total de intereses acumulados en {años} años: ${totalIntereses}')"
      ],
      "metadata": {
        "id": "sRDMMe-ZUubf"
      },
      "execution_count": null,
      "outputs": []
    },
    {
      "cell_type": "code",
      "source": [
        "prestamos = {\n",
        "    'Prestamo1': {0.05 : 1000},\n",
        "    'Prestamo2': {0.03 : 500},\n",
        "    'Prestamo3': {0.06 : 1500}\n",
        "}\n",
        "\n",
        "calcular_intereses_acumulados(prestamos, 2)"
      ],
      "metadata": {
        "colab": {
          "base_uri": "https://localhost:8080/"
        },
        "id": "-FpMn6pTKnPj",
        "outputId": "24b264b8-d0cb-4442-ccff-d6d08ffae8eb"
      },
      "execution_count": null,
      "outputs": [
        {
          "output_type": "stream",
          "name": "stdout",
          "text": [
            "Intereses de Prestamo1: $100.0\n",
            "Intereses de Prestamo2: $30.0\n",
            "Intereses de Prestamo3: $180.0\n",
            "Total de intereses acumulados en 2 años: $310.0\n"
          ]
        }
      ]
    },
    {
      "cell_type": "markdown",
      "source": [
        "\n",
        "\n",
        "> Forma 2, Desempaquetando diccionario anidado\n",
        "\n"
      ],
      "metadata": {
        "id": "cVWbpzT2MTBb"
      }
    },
    {
      "cell_type": "code",
      "source": [
        "def calcular_intereses(dic, años):\n",
        "    interesesAcumulados = 0\n",
        "    totalIntereses = 0\n",
        "\n",
        "    for nombre, x in dic.items():\n",
        "        tasa_interes = x['tasa_interes']\n",
        "        monto_pendiente = x['monto_pendiente']\n",
        "\n",
        "        interesesAcumulados = (monto_pendiente * tasa_interes * años)\n",
        "        print(f'Intereses de {nombre}: ${round(interesesAcumulados, 2)}')\n",
        "\n",
        "        totalIntereses += interesesAcumulados\n",
        "\n",
        "    print(f'Total de intereses acumulados en {años} años: ${totalIntereses}')"
      ],
      "metadata": {
        "id": "RiFyinO6KpFI"
      },
      "execution_count": null,
      "outputs": []
    },
    {
      "cell_type": "code",
      "source": [
        "prestamos = {\n",
        "    'Prestamo1': {'tasa_interes': 0.05, 'monto_pendiente' : 1000},\n",
        "    'Prestamo2': {'tasa_interes': 0.03, 'monto_pendiente' : 500},\n",
        "    'Prestamo3': {'tasa_interes': 0.06, 'monto_pendiente' : 1500}\n",
        "}\n",
        "calcular_intereses(prestamos, 2)"
      ],
      "metadata": {
        "colab": {
          "base_uri": "https://localhost:8080/"
        },
        "id": "un00YGjPLtIZ",
        "outputId": "4a1571b4-5c9d-49a2-d57a-90d122f668de"
      },
      "execution_count": null,
      "outputs": [
        {
          "output_type": "stream",
          "name": "stdout",
          "text": [
            "Intereses de Prestamo1: $100.0\n",
            "Intereses de Prestamo2: $30.0\n",
            "Intereses de Prestamo3: $180.0\n",
            "Total de intereses acumulados en 2 años: $310.0\n"
          ]
        }
      ]
    }
  ]
}