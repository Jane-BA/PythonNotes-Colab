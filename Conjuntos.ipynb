{
  "nbformat": 4,
  "nbformat_minor": 0,
  "metadata": {
    "colab": {
      "provenance": [],
      "collapsed_sections": [
        "ixNCq-86kQn0",
        "FQtzaanz_NmZ",
        "O6f9DB-r_TMR"
      ],
      "authorship_tag": "ABX9TyN0vAuiWSVGI3FGr53d2q52",
      "include_colab_link": true
    },
    "kernelspec": {
      "name": "python3",
      "display_name": "Python 3"
    },
    "language_info": {
      "name": "python"
    }
  },
  "cells": [
    {
      "cell_type": "markdown",
      "metadata": {
        "id": "view-in-github",
        "colab_type": "text"
      },
      "source": [
        "<a href=\"https://colab.research.google.com/github/Jane-BA/PythonNotes-Colab/blob/main/Conjuntos.ipynb\" target=\"_parent\"><img src=\"https://colab.research.google.com/assets/colab-badge.svg\" alt=\"Open In Colab\"/></a>"
      ]
    },
    {
      "cell_type": "markdown",
      "source": [
        "# **Strings**"
      ],
      "metadata": {
        "id": "ixNCq-86kQn0"
      }
    },
    {
      "cell_type": "code",
      "source": [
        "text = 'Ella sabe Python'\n",
        "numbers = [1, 2, 3, 4]\n",
        "tasks = [\"t1\", \"t2\", \"t3\"]"
      ],
      "metadata": {
        "id": "J-OQgZYIMm62"
      },
      "execution_count": 19,
      "outputs": []
    },
    {
      "cell_type": "code",
      "source": [
        "print(\"Ella\" in text)  #True\n",
        "\n",
        "size = len(text)\n",
        "\n",
        "''' Indexing '''\n",
        "print(size)\n",
        "print(text[0])  #E\n",
        "print(text[size - 1])  #n\n",
        "print(text[-1])  #n\n",
        "''' Slicing '''\n",
        "# [inicio : final : saltos]\n",
        "print(text[10:])  #Python\n",
        "print(text[:5])  #Ella\n",
        "print(text[10:16:2])  #Pto"
      ],
      "metadata": {
        "id": "T83q3ZiuddSY",
        "outputId": "d9f7df74-5978-4539-a75f-7bd4f9cf1e9a",
        "colab": {
          "base_uri": "https://localhost:8080/"
        }
      },
      "execution_count": 20,
      "outputs": [
        {
          "output_type": "stream",
          "name": "stdout",
          "text": [
            "True\n",
            "16\n",
            "E\n",
            "n\n",
            "n\n",
            "Python\n",
            "Ella \n",
            "Pto\n"
          ]
        }
      ]
    },
    {
      "cell_type": "code",
      "source": [
        "print(text.upper())  #Mayus\n",
        "print(text.lower())  #Minus\n",
        "print(text.count('a'))  #Num de 'a'\n",
        "\n",
        "print(text.swapcase())  #Mayus a minus y viceversa\n",
        "print(text.startswith('Ella'))  #True/False\n",
        "print(text.endswith('Rust'))  #True/False\n",
        "print(text.replace('Python', 'Go'))  #Reemplaza una palabra por otra"
      ],
      "metadata": {
        "id": "wajsqpa1eW87",
        "outputId": "4361a2bc-709c-4e2d-e9ac-a8109541fc2b",
        "colab": {
          "base_uri": "https://localhost:8080/"
        }
      },
      "execution_count": 21,
      "outputs": [
        {
          "output_type": "stream",
          "name": "stdout",
          "text": [
            "ELLA SABE PYTHON\n",
            "ella sabe python\n",
            "2\n",
            "eLLA SABE pYTHON\n",
            "True\n",
            "False\n",
            "Ella sabe Go\n"
          ]
        }
      ]
    },
    {
      "cell_type": "code",
      "source": [
        "text_2 = 'este es un titulo'\n",
        "print(text_2)\n",
        "print(text_2.capitalize())  #Primera letra en mayus\n",
        "print(text_2.title())  #Primera letra de c/palabra en mayus\n",
        "print(text_2.isdigit())  #Es dijito ? True/False\n",
        "print(\"398\".isdigit())"
      ],
      "metadata": {
        "id": "Zq4n8BqKecEr",
        "outputId": "8aba9c55-1baf-4245-e41c-5a9dd41813ab",
        "colab": {
          "base_uri": "https://localhost:8080/"
        }
      },
      "execution_count": 22,
      "outputs": [
        {
          "output_type": "stream",
          "name": "stdout",
          "text": [
            "este es un titulo\n",
            "Este es un titulo\n",
            "Este Es Un Titulo\n",
            "False\n",
            "True\n"
          ]
        }
      ]
    },
    {
      "cell_type": "code",
      "source": [
        "numbers[-1] = 10\n",
        "print(numbers)\n",
        "\n",
        "numbers.append(700)\n",
        "print(numbers)\n",
        "\n",
        "numbers.insert(0, \"Hola\")\n",
        "print(numbers)\n",
        "\n",
        "hi = 'Hola'\n",
        "print(hi.replace('H', 'J')) # Reemplazar"
      ],
      "metadata": {
        "id": "p8GNzhTJeopb",
        "outputId": "7b602376-5939-4bcd-d3bb-5a3519a1d4e7",
        "colab": {
          "base_uri": "https://localhost:8080/"
        }
      },
      "execution_count": 29,
      "outputs": [
        {
          "output_type": "stream",
          "name": "stdout",
          "text": [
            "['Hola', 'Hola', 'Hola', 'Hola', 1, 2, 3, 10, 10, 10, 10, 10]\n",
            "['Hola', 'Hola', 'Hola', 'Hola', 1, 2, 3, 10, 10, 10, 10, 10, 700]\n",
            "['Hola', 'Hola', 'Hola', 'Hola', 'Hola', 1, 2, 3, 10, 10, 10, 10, 10, 700]\n",
            "Jola\n"
          ]
        }
      ]
    },
    {
      "cell_type": "code",
      "source": [
        "# Asigna valores a las variables con la separacion (\"del simbolo\")\n",
        "edad, peso = \"45, 189.5\".split(\",\")\n",
        "# El valor return, en las funciones, retornan tuplas cuando son varios valores\n",
        "print(edad, peso)"
      ],
      "metadata": {
        "colab": {
          "base_uri": "https://localhost:8080/"
        },
        "id": "BKwRLdhn9X7n",
        "outputId": "1d4c4f89-bd0b-4c0f-eb6a-16b98029fb3a"
      },
      "execution_count": 18,
      "outputs": [
        {
          "output_type": "stream",
          "name": "stdout",
          "text": [
            "45  189.5\n"
          ]
        }
      ]
    },
    {
      "cell_type": "markdown",
      "source": [
        "# Conjuntos\n",
        "**[ LISTAS ]** - ordenada - modificable - duplicados - indexado\n",
        "\n",
        "---\n",
        "\n",
        "\n",
        "**( TUPLAS )** - ord - NO mod - dupli - index\n",
        "\n",
        "---\n",
        "\n",
        "\n",
        "**{ SET }** - NO ord - NO mod - NO dupli - NO index\n",
        "\n",
        "---\n",
        "\n",
        "\n",
        "**{ DIC }** - ord - mod - NO dupli - Key:Value"
      ],
      "metadata": {
        "id": "zdQv0Te5_AZE"
      }
    },
    {
      "cell_type": "markdown",
      "source": [
        "# **Listas**"
      ],
      "metadata": {
        "id": "FQtzaanz_NmZ"
      }
    },
    {
      "cell_type": "code",
      "source": [
        "'''LISTAS'''\n",
        "text = 'Ella sabe Python'"
      ],
      "metadata": {
        "id": "tcRo-9EIe3qW"
      },
      "execution_count": 10,
      "outputs": []
    },
    {
      "cell_type": "code",
      "source": [
        "'''Slicing'''\n",
        "# [inicio : final : saltos]\n",
        "print(text[:5])  #Ella\n",
        "print(text[10:])  #Python\n",
        "print(text[10:16:2])  #Pto"
      ],
      "metadata": {
        "id": "QrHU_oI6k8WE",
        "outputId": "2f2537c9-4e13-42c5-df61-b41bdb5fab8c",
        "colab": {
          "base_uri": "https://localhost:8080/"
        }
      },
      "execution_count": null,
      "outputs": [
        {
          "output_type": "stream",
          "name": "stdout",
          "text": [
            "Ella \n",
            "Python\n",
            "Pto\n"
          ]
        }
      ]
    },
    {
      "cell_type": "code",
      "source": [
        "sobrinos = ['Hugo', 'Paco', 'Luis']\n",
        "\n",
        "# Agrega 1 valor\n",
        "sobrinos.append(\"Antonio\")\n",
        "print(sobrinos)\n",
        "\n",
        "# Agrega multiples valores\n",
        "sobrinos.extend(['Maria', 'Teresa', 'Julio'])\n",
        "print(sobrinos)\n",
        "\n",
        "# Agrega en posición (posicion, valor)\n",
        "sobrinos.insert(2, 'Jane')\n",
        "print(sobrinos)\n",
        "\n",
        "# Orden alfabetico sort() / reverse, desendente\n",
        "sobrinos.sort(reverse=True)\n",
        "print(sobrinos)"
      ],
      "metadata": {
        "id": "AVx3hRxgle-r",
        "outputId": "c6e4aa0a-3e81-4f20-f0fb-3d08526bc8ac",
        "colab": {
          "base_uri": "https://localhost:8080/"
        }
      },
      "execution_count": 11,
      "outputs": [
        {
          "output_type": "stream",
          "name": "stdout",
          "text": [
            "['Hugo', 'Paco', 'Luis', 'Antonio']\n",
            "['Hugo', 'Paco', 'Luis', 'Antonio', 'Maria', 'Teresa', 'Julio']\n",
            "['Hugo', 'Paco', 'Jane', 'Luis', 'Antonio', 'Maria', 'Teresa', 'Julio']\n",
            "['Teresa', 'Paco', 'Maria', 'Luis', 'Julio', 'Jane', 'Hugo', 'Antonio']\n"
          ]
        }
      ]
    },
    {
      "cell_type": "code",
      "source": [
        "del sobrinos[0]; # Borra por indexado\n",
        "print(sobrinos)\n",
        "\n",
        "sobrinos.remove('Jane') #Borra por valor\n",
        "print(sobrinos)\n",
        "\n",
        "sobrinos.pop(2) #Borra por index\n",
        "print(sobrinos)\n",
        "\n",
        "sobrinos.clear() #Borra Todo\n",
        "print(sobrinos)"
      ],
      "metadata": {
        "colab": {
          "base_uri": "https://localhost:8080/"
        },
        "id": "n2WAkjyslxdW",
        "outputId": "0ad7c116-5b58-4fab-cef1-53a42f864267"
      },
      "execution_count": null,
      "outputs": [
        {
          "output_type": "stream",
          "name": "stdout",
          "text": [
            "['Paco', 'Maria', 'Luis', 'Julio', 'Jane', 'Hugo', 'Antonio']\n",
            "['Paco', 'Maria', 'Luis', 'Julio', 'Hugo', 'Antonio']\n",
            "['Paco', 'Maria', 'Julio', 'Hugo', 'Antonio']\n",
            "[]\n"
          ]
        }
      ]
    },
    {
      "cell_type": "markdown",
      "source": [
        "\n",
        "> Unir Listas\n",
        "\n"
      ],
      "metadata": {
        "id": "M6yL_u_y6yxQ"
      }
    },
    {
      "cell_type": "code",
      "source": [
        "list1 = ['luka']\n",
        "list2 = ['Hugo', 'Paco', 'Luis']\n",
        "list3 = ['lolo']\n",
        "\n",
        "form1 = list1 + list2 # Forma 1\n",
        "print(form1)\n",
        "\n",
        "for x in list2: # Forma 2\n",
        "  list1.append(x)\n",
        "\n",
        "print(list1)\n",
        "\n",
        "list2.extend(list3) # Forma 3\n",
        "print(list2)"
      ],
      "metadata": {
        "colab": {
          "base_uri": "https://localhost:8080/"
        },
        "id": "GeU7Ayvj4pjE",
        "outputId": "52f6b775-72f9-43f2-fd73-96edc3d3ac3b"
      },
      "execution_count": 14,
      "outputs": [
        {
          "output_type": "stream",
          "name": "stdout",
          "text": [
            "['luka', 'Hugo', 'Paco', 'Luis']\n",
            "['luka', 'Hugo', 'Paco', 'Luis']\n",
            "['Hugo', 'Paco', 'Luis', 'lolo']\n"
          ]
        }
      ]
    },
    {
      "cell_type": "code",
      "source": [
        "lista = ['Hugo', 'Paco', 'Luis', 'Lola']\n",
        "\n",
        "# variable FOR elemento IN lista IF condicion IN variable\n",
        "newList = [x.upper() for x in lista if 'a' in x]\n",
        "print(newList)\n",
        "\n",
        "# if x != 'apple'   -Si no es apple\n",
        "# if x != 'banana' else 'orange'   -Si no es banana devuelve orange"
      ],
      "metadata": {
        "colab": {
          "base_uri": "https://localhost:8080/"
        },
        "id": "aJplEJzD64no",
        "outputId": "deb10624-f729-4f10-ce9e-29829dbf473c"
      },
      "execution_count": 17,
      "outputs": [
        {
          "output_type": "stream",
          "name": "stdout",
          "text": [
            "['PACO', 'LOLA']\n"
          ]
        }
      ]
    },
    {
      "cell_type": "markdown",
      "source": [
        "# **Tuplas**"
      ],
      "metadata": {
        "id": "O6f9DB-r_TMR"
      }
    },
    {
      "cell_type": "code",
      "source": [
        "x = (1, 2, 3)\n",
        "y = 56, 57, 58\n",
        "# Lista de tuplas\n",
        "lista = [x, y]\n",
        "print(lista)"
      ],
      "metadata": {
        "id": "P0jqoKsm4-7i",
        "colab": {
          "base_uri": "https://localhost:8080/"
        },
        "outputId": "4d995833-b540-4778-8905-48e7806e0394"
      },
      "execution_count": 2,
      "outputs": [
        {
          "output_type": "stream",
          "name": "stdout",
          "text": [
            "[(1, 2, 3), (56, 57, 58)]\n"
          ]
        }
      ]
    },
    {
      "cell_type": "code",
      "source": [
        "points = (12, 14, 9, 10, 9, 12)\n",
        "print(points.count(9)); # Cuantas veces se repite (value)?\n",
        "\n",
        "winer, second, *rest = points # Desempaquetado de *? valores restantes\n",
        "print(winer, second, rest)"
      ],
      "metadata": {
        "colab": {
          "base_uri": "https://localhost:8080/"
        },
        "id": "9L3s_j0NCFh3",
        "outputId": "6d0a35fc-eb8b-46b3-b1a3-af9d9f7a4d0b"
      },
      "execution_count": 5,
      "outputs": [
        {
          "output_type": "stream",
          "name": "stdout",
          "text": [
            "2\n",
            "12 14 [9, 10, 9, 12]\n"
          ]
        }
      ]
    },
    {
      "cell_type": "code",
      "source": [
        "fruits = ('a', 'b', 'c') # Empaquetar\n",
        "\n",
        "x = list(fruits) # La convierto en lista para poder modificarla\n",
        "x[1] = 'z'\n",
        "\n",
        "y = tuple(x) # La convierto de nuevo en tupla\n",
        "print(y)\n",
        "\n",
        "(m, *n) = y # Desembalaje\n",
        "print(m, n) # Guardar los valores en variables"
      ],
      "metadata": {
        "colab": {
          "base_uri": "https://localhost:8080/"
        },
        "id": "TI85S76iEe2f",
        "outputId": "67e1e31d-84ba-4b3c-e340-3e095eb1bd5a"
      },
      "execution_count": 9,
      "outputs": [
        {
          "output_type": "stream",
          "name": "stdout",
          "text": [
            "('a', 'z', 'c')\n",
            "a ['z', 'c']\n"
          ]
        }
      ]
    },
    {
      "cell_type": "markdown",
      "source": [
        "# **Set**"
      ],
      "metadata": {
        "id": "OaQVpFLH34Y8"
      }
    },
    {
      "cell_type": "code",
      "source": [
        "set_types = {1, 'hola', False, 12.12} # Permite distintos tipos de datos\n",
        "print(set_types)\n",
        "print(type(set_types))\n",
        "print(len(set_types))"
      ],
      "metadata": {
        "id": "DcrJjUWx4EN0",
        "outputId": "931af059-0ce2-442a-eab1-8fb8dff5fbe8",
        "colab": {
          "base_uri": "https://localhost:8080/"
        }
      },
      "execution_count": null,
      "outputs": [
        {
          "output_type": "stream",
          "name": "stdout",
          "text": [
            "{False, 1, 'hola', 12.12}\n",
            "<class 'set'>\n",
            "4\n"
          ]
        }
      ]
    },
    {
      "cell_type": "code",
      "source": [
        "set_from_tuples = set(('abc', 'cbv', 'as', 'abc')) # No permite duplicados\n",
        "print(set_from_tuples)\n",
        "\n",
        "set_from_string = set('hoola') # Convierte a set un string\n",
        "print(set_from_string)"
      ],
      "metadata": {
        "id": "_nEt_s-h5kZI",
        "outputId": "16e7daa4-2974-46b7-f542-58f7f0772bca",
        "colab": {
          "base_uri": "https://localhost:8080/"
        }
      },
      "execution_count": null,
      "outputs": [
        {
          "output_type": "stream",
          "name": "stdout",
          "text": [
            "{'as', 'cbv', 'abc'}\n",
            "{'a', 'h', 'l', 'o'}\n"
          ]
        }
      ]
    },
    {
      "cell_type": "code",
      "source": [
        "set_countries = {'col', 'mex', 'bol'} # No tiene indexacion\n",
        "print('col' in set_countries)\n",
        "\n",
        "set_countries.add('pe') # Añadir 1 valor\n",
        "print(set_countries)\n",
        "set_countries.update({'ar', 'ecua', 'pe'}) # Añadir varios valores\n",
        "print(set_countries)\n",
        "\n",
        "set_countries.remove('col') # Remover, causa error si no encuantra la palabra\n",
        "print(set_countries)\n",
        "set_countries.discard('arg') # Descarta, no causa error\n",
        "print(set_countries)\n",
        "\n",
        "set_countries.clear() # Usar clear con cuidado, ya que lo borra todo\n",
        "print(set_countries)\n",
        "print(len(set_countries))"
      ],
      "metadata": {
        "id": "Dp9Z0uT76Db8",
        "outputId": "106f20e5-5a4c-4765-c8b2-ce1bc2f3fe4c",
        "colab": {
          "base_uri": "https://localhost:8080/"
        }
      },
      "execution_count": null,
      "outputs": [
        {
          "output_type": "stream",
          "name": "stdout",
          "text": [
            "True\n",
            "{'col', 'mex', 'bol', 'pe'}\n",
            "{'col', 'bol', 'ar', 'pe', 'mex', 'ecua'}\n",
            "{'bol', 'ar', 'pe', 'mex', 'ecua'}\n",
            "{'bol', 'ar', 'pe', 'mex', 'ecua'}\n",
            "set()\n",
            "0\n"
          ]
        }
      ]
    },
    {
      "cell_type": "markdown",
      "source": [
        "\n",
        "\n",
        "> Conjuntos\n",
        "\n"
      ],
      "metadata": {
        "id": "6MC3N_zw9NsW"
      }
    },
    {
      "cell_type": "code",
      "source": [
        "set_a = {'col', 'mex', 'bol'}\n",
        "set_b = {'pe', 'bol'}"
      ],
      "metadata": {
        "id": "0Ere2wyS9WOY"
      },
      "execution_count": null,
      "outputs": []
    },
    {
      "cell_type": "code",
      "source": [
        "'''Todos los elementos de ambos conjuntos sin repetir duplicados'''\n",
        "# col, mex, bol, pe\n",
        "set_c = set_a.union(set_b)\n",
        "print(set_c)\n",
        "print(set_a | set_b)"
      ],
      "metadata": {
        "id": "K8TQo1FU9dBQ",
        "outputId": "7960665e-22f4-4b6f-d07d-9450e945b9c2",
        "colab": {
          "base_uri": "https://localhost:8080/"
        }
      },
      "execution_count": null,
      "outputs": [
        {
          "output_type": "stream",
          "name": "stdout",
          "text": [
            "{'col', 'bol', 'pe', 'mex'}\n",
            "{'col', 'bol', 'pe', 'mex'}\n"
          ]
        }
      ]
    },
    {
      "cell_type": "code",
      "source": [
        "'''Solo muestra los elem duplicados al momento de intersectarse'''\n",
        "# bol\n",
        "set_c = set_a.intersection(set_b)\n",
        "print(set_c)\n",
        "print(set_a & set_b)"
      ],
      "metadata": {
        "id": "b3OWWPN_9zTY",
        "outputId": "2d89c859-0451-4870-edc6-69cabfaa698f",
        "colab": {
          "base_uri": "https://localhost:8080/"
        }
      },
      "execution_count": null,
      "outputs": [
        {
          "output_type": "stream",
          "name": "stdout",
          "text": [
            "{'bol'}\n",
            "{'bol'}\n"
          ]
        }
      ]
    },
    {
      "cell_type": "code",
      "source": [
        "'''Muestra los elementos diferentes a los del otro conjunto'''\n",
        "# col, mex\n",
        "set_c = set_a.difference(set_b)\n",
        "print(set_c)\n",
        "print(set_a - set_b)"
      ],
      "metadata": {
        "id": "8a1tW6Sp-D0E",
        "outputId": "4efc26c0-40a3-46a0-f965-f9870d4bd18c",
        "colab": {
          "base_uri": "https://localhost:8080/"
        }
      },
      "execution_count": null,
      "outputs": [
        {
          "output_type": "stream",
          "name": "stdout",
          "text": [
            "{'col', 'mex'}\n",
            "{'col', 'mex'}\n"
          ]
        }
      ]
    },
    {
      "cell_type": "code",
      "source": [
        "'''Muestra los elementos diferentes en cada conjunto, excluyendo los elem repetidos'''\n",
        "# col, mex, pe\n",
        "set_c = set_a.symmetric_difference(set_b)\n",
        "print(set_c)\n",
        "print(set_a ^ set_b)"
      ],
      "metadata": {
        "id": "kGOpJCVE-O7n",
        "outputId": "b6a19755-9100-4813-c210-b131b16fb918",
        "colab": {
          "base_uri": "https://localhost:8080/"
        }
      },
      "execution_count": null,
      "outputs": [
        {
          "output_type": "stream",
          "name": "stdout",
          "text": [
            "{'col', 'mex', 'pe'}\n",
            "{'col', 'mex', 'pe'}\n"
          ]
        }
      ]
    },
    {
      "cell_type": "markdown",
      "source": [
        "# **Diccionarios**"
      ],
      "metadata": {
        "id": "jQB1jjMtMRhF"
      }
    },
    {
      "cell_type": "code",
      "source": [
        "# Lista dentro de diccionario / dic = {key : value}\n",
        "person = {\n",
        "    'name' : 'Nicolas',\n",
        "    'last' : 'Molina',\n",
        "    'langs' : ['Python', 'JS'],\n",
        "    'age' : 87\n",
        "}\n",
        "print(person);"
      ],
      "metadata": {
        "id": "x11Y8e3DMeuR",
        "outputId": "e3d9e301-3264-4dee-d163-f57759006f28",
        "colab": {
          "base_uri": "https://localhost:8080/"
        }
      },
      "execution_count": null,
      "outputs": [
        {
          "output_type": "stream",
          "name": "stdout",
          "text": [
            "{'name': 'Nicolas', 'last': 'Molina', 'langs': ['Python', 'JS'], 'age': 87}\n"
          ]
        }
      ]
    },
    {
      "cell_type": "code",
      "source": [
        "print(len(person)) # Tamaño del dic\n",
        "\n",
        "person['name'] = 'Santy' # Cambiar un valor\n",
        "print(person['name'])\n",
        "\n",
        "person['age'] -= 50 # Operaciones mat dentro del dic\n",
        "print(person['age'])"
      ],
      "metadata": {
        "colab": {
          "base_uri": "https://localhost:8080/"
        },
        "id": "uFzIw4J-PMdx",
        "outputId": "01c7a90c-f770-44fe-f133-b2c851eac2c5"
      },
      "execution_count": null,
      "outputs": [
        {
          "output_type": "stream",
          "name": "stdout",
          "text": [
            "4\n",
            "Santy\n",
            "37\n"
          ]
        }
      ]
    },
    {
      "cell_type": "code",
      "source": [
        "print('langs' in person) # Esta 'key/value' en el dic?\n",
        "person['langs'].append('rust') # Añade valor a lista\n",
        "print(person['langs'])"
      ],
      "metadata": {
        "colab": {
          "base_uri": "https://localhost:8080/"
        },
        "id": "4fubKhQdPVks",
        "outputId": "0c44ae12-8255-4155-d62c-3443aff04c65"
      },
      "execution_count": null,
      "outputs": [
        {
          "output_type": "stream",
          "name": "stdout",
          "text": [
            "True\n",
            "['Python', 'JS', 'rust']\n"
          ]
        }
      ]
    },
    {
      "cell_type": "code",
      "source": [
        "print('....get....')\n",
        "print(person.get('name')) # Obtiene, valor específico\n",
        "print(person.get('unValor'))  #Usando GET evitamos errores\n",
        "\n",
        "print('....items....')\n",
        "print(person.items()) # Obtiene, todo en forma de lista\n",
        "\n",
        "print('....keys....')\n",
        "print(person.keys()) # Obtiene, todos los valores guardados\n",
        "\n",
        "print('....values....')\n",
        "print(person.values()) # Obtiene, todos los valores guardados"
      ],
      "metadata": {
        "colab": {
          "base_uri": "https://localhost:8080/"
        },
        "id": "tZ3VhokrPqeD",
        "outputId": "e370d709-ca12-44d2-f205-245a50bce20c"
      },
      "execution_count": null,
      "outputs": [
        {
          "output_type": "stream",
          "name": "stdout",
          "text": [
            "....get....\n",
            "Santy\n",
            "None\n",
            "....items....\n",
            "dict_items([('name', 'Santy'), ('last', 'Molina'), ('langs', ['Python', 'JS', 'rust']), ('age', 37)])\n",
            "....keys....\n",
            "dict_keys(['name', 'last', 'langs', 'age'])\n",
            "....values....\n",
            "dict_values(['Santy', 'Molina', ['Python', 'JS', 'rust'], 37])\n"
          ]
        }
      ]
    },
    {
      "cell_type": "code",
      "source": [
        "#Borrando ....\n",
        "print(person)\n",
        "del person['last']\n",
        "print(person)\n",
        "person.pop('age')\n",
        "print(person)"
      ],
      "metadata": {
        "id": "5FaYmSQO8h0n",
        "outputId": "4f991c77-0502-4c4f-fc23-c39da1438ae2",
        "colab": {
          "base_uri": "https://localhost:8080/"
        }
      },
      "execution_count": null,
      "outputs": [
        {
          "output_type": "stream",
          "name": "stdout",
          "text": [
            "{'name': 'Santy', 'last': 'Molina', 'langs': ['Python', 'JS', 'rust'], 'age': 37}\n",
            "{'name': 'Santy', 'langs': ['Python', 'JS', 'rust'], 'age': 37}\n",
            "{'name': 'Santy', 'langs': ['Python', 'JS', 'rust']}\n"
          ]
        }
      ]
    }
  ]
}